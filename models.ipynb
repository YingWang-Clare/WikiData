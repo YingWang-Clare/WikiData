{
 "cells": [
  {
   "cell_type": "markdown",
   "metadata": {},
   "source": [
    "# Wikidata - the Sherlock Holmes investigative AI"
   ]
  },
  {
   "cell_type": "code",
   "execution_count": null,
   "metadata": {
    "collapsed": true
   },
   "outputs": [],
   "source": [
    "import pandas as pd\n",
    "import numpy as np\n",
    "from time import time\n",
    "import matplotlib.pyplot as plt\n",
    "from sklearn.model_selection import train_test_split\n",
    "from sklearn.metrics import accuracy_score, f1_score\n",
    "from sklearn.tree import DecisionTreeClassifier\n",
    "from sklearn.naive_bayes import GaussianNB\n",
    "from sklearn.multiclass import OneVsRestClassifier\n",
    "from sklearn.svm import SVC\n",
    "from sklearn.ensemble import RandomForestClassifier\n",
    "from sklearn.ensemble import AdaBoostClassifier\n",
    "from sklearn.neighbors import KNeighborsClassifier\n",
    "from sklearn.neural_network import MLPClassifier\n",
    "from sklearn.model_selection import GridSearchCV\n",
    "%matplotlib inline"
   ]
  },
  {
   "cell_type": "markdown",
   "metadata": {},
   "source": [
    "## Part 1: Data Processing"
   ]
  },
  {
   "cell_type": "markdown",
   "metadata": {},
   "source": [
    "### Import dataset from WikiData in csv format"
   ]
  },
  {
   "cell_type": "code",
   "execution_count": 45,
   "metadata": {},
   "outputs": [
    {
     "name": "stdout",
     "output_type": "stream",
     "text": [
      "                            human gender     cause         date_of_birth  \\\n",
      "0                  Hermann Göring   male   suicide  1893-01-12T00:00:00Z   \n",
      "1  Manfred Freiherr von Killinger   male   suicide  1886-07-14T00:00:00Z   \n",
      "2  Manfred Freiherr von Killinger   male   suicide  1886-07-14T00:00:00Z   \n",
      "3                     Tewodros II   male   suicide  1818-01-01T00:00:00Z   \n",
      "4              William the Silent   male  homicide  1533-05-04T00:00:00Z   \n",
      "\n",
      "          date_of_death                     country          occupation  \\\n",
      "0  1946-10-15T00:00:00Z                Nazi Germany      aircraft pilot   \n",
      "1  1944-09-02T00:00:00Z                     Germany          politician   \n",
      "2  1944-09-02T00:00:00Z                     Germany              writer   \n",
      "3  1868-04-13T00:00:00Z                    Ethiopia          politician   \n",
      "4  1584-07-10T00:00:00Z  Kingdom of the Netherlands  military personnel   \n",
      "\n",
      "                             religion  \n",
      "0                         Lutheranism  \n",
      "1                         Lutheranism  \n",
      "2                         Lutheranism  \n",
      "3  Ethiopian Orthodox Tewahedo Church  \n",
      "4                           Calvinism  \n"
     ]
    }
   ],
   "source": [
    "data = pd.read_csv('query.csv')\n",
    "print(data.head(5))"
   ]
  },
  {
   "cell_type": "markdown",
   "metadata": {},
   "source": [
    "### De-duplicate according to person's name"
   ]
  },
  {
   "cell_type": "code",
   "execution_count": 46,
   "metadata": {},
   "outputs": [
    {
     "name": "stdout",
     "output_type": "stream",
     "text": [
      "Before de-du, # of data is: 13455\n",
      "After de-du, # data is: 3818\n"
     ]
    }
   ],
   "source": [
    "print(\"Before de-du, # of data is: {}\".format(data.shape[0]))\n",
    "data = data.drop_duplicates(subset='human')\n",
    "print(\"After de-du, # data is: {}\".format(data.shape[0]))"
   ]
  },
  {
   "cell_type": "markdown",
   "metadata": {},
   "source": [
    "### Feature & Label Selection\n",
    "We selected these four factors: 'gender', 'country', 'occupation', and 'religion' as possible features.\n",
    "The label is 'cause' (casue of death)."
   ]
  },
  {
   "cell_type": "code",
   "execution_count": 47,
   "metadata": {},
   "outputs": [
    {
     "name": "stdout",
     "output_type": "stream",
     "text": [
      "  gender                     country          occupation  \\\n",
      "0   male                Nazi Germany      aircraft pilot   \n",
      "1   male                     Germany          politician   \n",
      "3   male                    Ethiopia          politician   \n",
      "4   male  Kingdom of the Netherlands  military personnel   \n",
      "5   male    Kingdom of Great Britain         philosopher   \n",
      "\n",
      "                             religion  \n",
      "0                         Lutheranism  \n",
      "1                         Lutheranism  \n",
      "3  Ethiopian Orthodox Tewahedo Church  \n",
      "4                           Calvinism  \n",
      "5                   Church of England  \n"
     ]
    }
   ],
   "source": [
    "data_raw = data.drop('human', axis=1)\n",
    "features_raw = data_raw.drop(['cause', 'date_of_birth', 'date_of_death'], axis=1)\n",
    "label_raw = data['cause'] \n",
    "print(features_raw.head(5))"
   ]
  },
  {
   "cell_type": "code",
   "execution_count": 49,
   "metadata": {},
   "outputs": [
    {
     "name": "stdout",
     "output_type": "stream",
     "text": [
      "# label: (3818,)\n",
      "# features: (3818, 4)\n"
     ]
    }
   ],
   "source": [
    "print(\"# of label: {}\".format(label_raw.shape))\n",
    "print(\"# of features: {}\".format(features_raw.shape))"
   ]
  },
  {
   "cell_type": "markdown",
   "metadata": {},
   "source": [
    "The statistical information about the label of our data."
   ]
  },
  {
   "cell_type": "code",
   "execution_count": 51,
   "metadata": {},
   "outputs": [
    {
     "name": "stdout",
     "output_type": "stream",
     "text": [
      "                cause\n",
      "natural causes   2707\n",
      "homicide          693\n",
      "accident          219\n",
      "suicide           199\n"
     ]
    }
   ],
   "source": [
    "x = label_raw.value_counts()\n",
    "df = pd.DataFrame(x)\n",
    "print(df)"
   ]
  },
  {
   "cell_type": "markdown",
   "metadata": {},
   "source": [
    "### Convert categorical variable into indicator variables (Encoding label and features)"
   ]
  },
  {
   "cell_type": "code",
   "execution_count": 53,
   "metadata": {},
   "outputs": [
    {
     "name": "stdout",
     "output_type": "stream",
     "text": [
      "# of data: 3818\n",
      "# of encoded labels is 4\n",
      "# of encoded features is 777\n"
     ]
    }
   ],
   "source": [
    "features = pd.get_dummies(features_raw, columns=['gender', 'country', 'occupation', 'religion'])\n",
    "label = pd.get_dummies(label_raw)\n",
    "print(\"# of data: {}\".format(features.shape[0]))\n",
    "print(\"# of encoded labels is {}\\n# of encoded features is {}\".format(label.shape[1], features.shape[1]))"
   ]
  },
  {
   "cell_type": "markdown",
   "metadata": {},
   "source": [
    "### Split the data into training data and testing data"
   ]
  },
  {
   "cell_type": "code",
   "execution_count": 57,
   "metadata": {},
   "outputs": [
    {
     "name": "stdout",
     "output_type": "stream",
     "text": [
      "Training set has 3054 samples.\n",
      "Testing set has 764 samples.\n"
     ]
    }
   ],
   "source": [
    "X_train, X_test, y_train, y_test = train_test_split(features, label, test_size=.2, random_state=5)\n",
    "print(\"Training set has {} samples.\\nTesting set has {} samples.\"\n",
    "      .format((X_train.shape[0]), X_test.shape[0]))"
   ]
  },
  {
   "cell_type": "markdown",
   "metadata": {},
   "source": [
    "## Part 2: Models Evaluation"
   ]
  },
  {
   "cell_type": "markdown",
   "metadata": {},
   "source": [
    "In this part, we attempted 7 different models without fine-tuning, namely, they are:\n",
    "* Naive Bayes\n",
    "* Support Vector Machine\n",
    "* Decision Tree\n",
    "* Random Forest\n",
    "* AdaBoost\n",
    "* K-nearest Neighbors\n",
    "* Multi-layer Perceptron\n",
    "\n",
    "We use two metrics to evaluate the performance of each model:\n",
    "* Accuracy Score\n",
    "* F1-Score"
   ]
  },
  {
   "cell_type": "code",
   "execution_count": 10,
   "metadata": {},
   "outputs": [
    {
     "name": "stdout",
     "output_type": "stream",
     "text": [
      "The accuracy for Naive Bayes is 0.159685863874.\n",
      "The f1_score for Naive Bayes is 0.214765100671.\n"
     ]
    }
   ],
   "source": [
    "# Naive Bayes\n",
    "y_pred_NB = OneVsRestClassifier(GaussianNB()).fit(X_train, y_train).predict(X_test)\n",
    "print('The accuracy for Naive Bayes is {}.\\nThe f1_score for Naive Bayes is {}.'\\\n",
    "    .format(accuracy_score(y_test, y_pred_NB),f1_score(y_test, y_pred_NB, average='micro')))"
   ]
  },
  {
   "cell_type": "code",
   "execution_count": 147,
   "metadata": {},
   "outputs": [
    {
     "name": "stdout",
     "output_type": "stream",
     "text": [
      "The accuracy for SVM is 0.674083769634.\n",
      "The f1_score for SVM is 0.700610997963.\n"
     ]
    }
   ],
   "source": [
    "# SVM\n",
    "y_pred_svm = OneVsRestClassifier(SVC(kernel='linear', random_state=5)).fit(X_train, y_train).predict(X_test)\n",
    "print('The accuracy for SVM is {}.\\nThe f1_score for SVM is {}.'\\\n",
    "    .format(accuracy_score(y_test, y_pred_svm),f1_score(y_test, y_pred_svm, average='micro')))"
   ]
  },
  {
   "cell_type": "code",
   "execution_count": 55,
   "metadata": {},
   "outputs": [
    {
     "name": "stdout",
     "output_type": "stream",
     "text": [
      "The accuracy for Decision Tree is 0.630890052356.\n",
      "The f1_score for Decision Tree is 0.656675749319.\n"
     ]
    }
   ],
   "source": [
    "# Decision Tree\n",
    "tree = DecisionTreeClassifier(random_state=5)\n",
    "tree.fit(X_train, y_train)\n",
    "y_pred_tree = tree.predict(X_test)\n",
    "print(\"The accuracy for Decision Tree is {}.\\nThe f1_score for Decision Tree is {}.\"\n",
    "      .format(accuracy_score(y_test, y_pred_tree), f1_score(y_test, y_pred_tree, average='micro')))"
   ]
  },
  {
   "cell_type": "code",
   "execution_count": 12,
   "metadata": {},
   "outputs": [
    {
     "name": "stdout",
     "output_type": "stream",
     "text": [
      "The accuracy for Random Forest is 0.659685863874.\n",
      "The f1_score for Random Forest is 0.689466484268.\n"
     ]
    }
   ],
   "source": [
    "# Random Forest\n",
    "random = RandomForestClassifier(random_state=5)\n",
    "random.fit(X_train, y_train)\n",
    "y_pred_random = random.predict(X_test)\n",
    "print('The accuracy for Random Forest is {}.\\nThe f1_score for Random Forest is {}.'\n",
    "      .format(accuracy_score(y_test, y_pred_random),f1_score(y_test, y_pred_random, average='micro')))"
   ]
  },
  {
   "cell_type": "code",
   "execution_count": 13,
   "metadata": {},
   "outputs": [
    {
     "name": "stdout",
     "output_type": "stream",
     "text": [
      "The accuracy for AdaBoost is 0.689790575916.\n",
      "The f1_score for AdaBoost is 0.722296395194.\n"
     ]
    }
   ],
   "source": [
    "# AdaBoost\n",
    "y_pred_boost = OneVsRestClassifier(AdaBoostClassifier(random_state=5)).fit(X_train, y_train).predict(X_test)\n",
    "print('The accuracy for AdaBoost is {}.\\nThe f1_score for AdaBoost is {}.'\n",
    "      .format(accuracy_score(y_test, y_pred_boost),f1_score(y_test, y_pred_boost, average='micro')))"
   ]
  },
  {
   "cell_type": "code",
   "execution_count": 14,
   "metadata": {},
   "outputs": [
    {
     "name": "stdout",
     "output_type": "stream",
     "text": [
      "The accuracy for KNN is 0.675392670157.\n",
      "The f1_score for KNN is 0.704436860068.\n"
     ]
    }
   ],
   "source": [
    "# KNN\n",
    "knn = KNeighborsClassifier()\n",
    "knn.fit(X_train, y_train)\n",
    "y_pred_knn = knn.predict(X_test)\n",
    "print('The accuracy for KNN is {}.\\nThe f1_score for KNN is {}.'\n",
    "      .format(accuracy_score(y_test, y_pred_knn),f1_score(y_test, y_pred_knn, average='micro')))"
   ]
  },
  {
   "cell_type": "code",
   "execution_count": 61,
   "metadata": {},
   "outputs": [
    {
     "name": "stdout",
     "output_type": "stream",
     "text": [
      "The accuracy for MLP is 0.688481675393.\n",
      "The f1_score for MLP is 0.724019270475.\n"
     ]
    }
   ],
   "source": [
    "# MLPClassifier\n",
    "mlp = MLPClassifier(hidden_layer_sizes=1)\n",
    "mlp.fit(X_train, y_train)\n",
    "y_pred_mlp = mlp.predict(X_test)\n",
    "print('The accuracy for MLP is {}.\\nThe f1_score for MLP is {}.'\n",
    "      .format(accuracy_score(y_test, y_pred_mlp),f1_score(y_test, y_pred_mlp, average='micro')))"
   ]
  },
  {
   "cell_type": "markdown",
   "metadata": {},
   "source": [
    "## Part 3: Fine-tuning the Models"
   ]
  },
  {
   "cell_type": "markdown",
   "metadata": {},
   "source": [
    "In this section, we focused on searching optimal parameters of the models that we trained in the last part."
   ]
  },
  {
   "cell_type": "code",
   "execution_count": 78,
   "metadata": {},
   "outputs": [
    {
     "name": "stdout",
     "output_type": "stream",
     "text": [
      "Training time: 1102.16591382\n",
      "The best optimized KNN found: \n",
      "\n",
      "KNeighborsClassifier(algorithm='auto', leaf_size=30, metric='minkowski',\n",
      "           metric_params=None, n_jobs=1, n_neighbors=9, p=2,\n",
      "           weights='uniform')\n",
      "\n",
      "The highest accuracy score is 0.67583497053\n"
     ]
    },
    {
     "name": "stderr",
     "output_type": "stream",
     "text": [
      "/Users/wangying/anaconda/lib/python2.7/site-packages/sklearn/model_selection/_search.py:667: DeprecationWarning: The grid_scores_ attribute was deprecated in version 0.18 in favor of the more elaborate cv_results_ attribute. The grid_scores_ attribute will not be available from 0.20\n",
      "  DeprecationWarning)\n"
     ]
    }
   ],
   "source": [
    "# Fine-Tuning: KNN\n",
    "n_neighbors = range(1,10)\n",
    "params = dict(n_neighbors=n_neighbors)\n",
    "knn_optimal = KNeighborsClassifier()\n",
    "grid_knn = GridSearchCV(knn_optimal, params, scoring='accuracy', cv=10)\n",
    "t0 = time()\n",
    "grid_knn.fit(X_train, y_train)\n",
    "t1 = time()\n",
    "print(\"Training time: {}\".format(t1-t0))\n",
    "best_clf = grid_knn.best_estimator_\n",
    "results = grid_knn.grid_scores_\n",
    "print(\"The best optimized KNN found: \\n\\n{}\".format(best_clf))\n",
    "print(\"\\nThe highest accuracy score is {}\".format(grid_knn.best_score_))"
   ]
  },
  {
   "cell_type": "code",
   "execution_count": 79,
   "metadata": {},
   "outputs": [
    {
     "data": {
      "image/png": "[encoded data removed]",
      "text/plain": [
       "<matplotlib.figure.Figure at 0x11adc6850>"
      ]
     },
     "metadata": {},
     "output_type": "display_data"
    }
   ],
   "source": [
    "grid_mean_scores = []\n",
    "for r in results:\n",
    "    grid_mean_scores.append(r.mean_validation_score)\n",
    "plt.title('KNN Optimization', fontsize=18)\n",
    "plt.plot(n_neighbors, grid_mean_scores)\n",
    "plt.tick_params(labelsize=18)\n",
    "plt.xlabel('n_neighbors', fontsize=18)\n",
    "plt.ylabel('Accuracy', fontsize=18)\n",
    "plt.show()"
   ]
  },
  {
   "cell_type": "code",
   "execution_count": 80,
   "metadata": {},
   "outputs": [
    {
     "name": "stdout",
     "output_type": "stream",
     "text": [
      "The accuracy for optimized KNN is 0.687172774869.\n",
      "The f1_score for optimized KNN is 0.717213114754.\n"
     ]
    }
   ],
   "source": [
    "y_pred_knn_optimal = best_clf.predict(X_test)\n",
    "print('The accuracy for optimized KNN is {}.\\nThe f1_score for optimized KNN is {}.'\n",
    "      .format(accuracy_score(y_test, y_pred_knn_optimal), f1_score(y_test, y_pred_knn_optimal, average='micro')))"
   ]
  },
  {
   "cell_type": "code",
   "execution_count": 114,
   "metadata": {},
   "outputs": [
    {
     "name": "stdout",
     "output_type": "stream",
     "text": [
      "The traning time is: 310.727873087\n",
      "The best optimized Decision Tree is: \n",
      "\n",
      "DecisionTreeClassifier(class_weight=None, criterion='gini', max_depth=10,\n",
      "            max_features=None, max_leaf_nodes=None,\n",
      "            min_impurity_split=1e-07, min_samples_leaf=1,\n",
      "            min_samples_split=2, min_weight_fraction_leaf=0.0,\n",
      "            presort=False, random_state=5, splitter='best')\n",
      "\n",
      "The best accuracy score is: 0.72527832351\n"
     ]
    },
    {
     "name": "stderr",
     "output_type": "stream",
     "text": [
      "/Users/wangying/anaconda/lib/python2.7/site-packages/sklearn/model_selection/_search.py:667: DeprecationWarning: The grid_scores_ attribute was deprecated in version 0.18 in favor of the more elaborate cv_results_ attribute. The grid_scores_ attribute will not be available from 0.20\n",
      "  DeprecationWarning)\n"
     ]
    }
   ],
   "source": [
    "# Fine-Tuning: Decision Tree\n",
    "max_depth = range(1,20)\n",
    "min_samples_split = range(2,20)\n",
    "params = dict(max_depth=max_depth, min_samples_split=min_samples_split)\n",
    "tree_optimal = DecisionTreeClassifier(random_state=5)\n",
    "grid_tree = GridSearchCV(tree_optimal, params, scoring='accuracy', cv=10)\n",
    "t0 = time()\n",
    "grid_tree.fit(X_train, y_train)\n",
    "t1 = time()\n",
    "print \"Training time is: {}\".format(t1-t0)\n",
    "best_clf = grid_tree.best_estimator_\n",
    "results = grid_tree.grid_scores_\n",
    "print \"The best optimized Decision Tree found: \\n\\n{}\".format(best_clf)\n",
    "print \"\\nThe highest accuracy score is: {}\".format(grid_tree.best_score_)"
   ]
  },
  {
   "cell_type": "code",
   "execution_count": 113,
   "metadata": {},
   "outputs": [
    {
     "data": {
      "image/png": "[encoded data removed]",
      "text/plain": [
       "<matplotlib.figure.Figure at 0x11ad88ad0>"
      ]
     },
     "metadata": {},
     "output_type": "display_data"
    }
   ],
   "source": [
    "grid_mean_scores = []\n",
    "for i in results:\n",
    "    grid_mean_scores.append(i.mean_validation_score)\n",
    "count = 1\n",
    "list1 = []\n",
    "list2 = []\n",
    "for i in grid_mean_scores:\n",
    "    list1.append(i)\n",
    "    count += 1\n",
    "    if count == 19:\n",
    "        list2.append(np.mean(list1))\n",
    "        list1 = []\n",
    "        count = 1\n",
    "plt.title('Decision Tree Optimization', fontsize=18)\n",
    "plt.plot(max_depth, list2)\n",
    "plt.tick_params(labelsize=20)\n",
    "plt.xlabel('max_depth', fontsize=18)\n",
    "plt.ylabel('Accuracy', fontsize=18)\n",
    "plt.show()"
   ]
  },
  {
   "cell_type": "code",
   "execution_count": 115,
   "metadata": {},
   "outputs": [
    {
     "name": "stdout",
     "output_type": "stream",
     "text": [
      "The accuracy for optimized Decision Tree is: 0.730366492147.\n",
      "The f1_score for optimized Decision Tree is: 0.731323722149.\n"
     ]
    }
   ],
   "source": [
    "y_pred_tree_optimal = best_clf.predict(X_test)\n",
    "print('The accuracy for optimized Decision Tree is: {}.\\nThe f1_score for optimized Decision Tree is: {}.'\\\n",
    "    .format(accuracy_score(y_test, y_pred_tree_optimal),f1_score(y_test, y_pred_tree_optimal, average='micro')))"
   ]
  },
  {
   "cell_type": "code",
   "execution_count": 116,
   "metadata": {},
   "outputs": [
    {
     "name": "stdout",
     "output_type": "stream",
     "text": [
      "Training time: 464.998425961\n",
      "The best optimized Random Forest found: \n",
      "\n",
      "RandomForestClassifier(bootstrap=True, class_weight=None, criterion='gini',\n",
      "            max_depth=16, max_features='auto', max_leaf_nodes=None,\n",
      "            min_impurity_split=1e-07, min_samples_leaf=1,\n",
      "            min_samples_split=6, min_weight_fraction_leaf=0.0,\n",
      "            n_estimators=10, n_jobs=1, oob_score=False, random_state=5,\n",
      "            verbose=0, warm_start=False)\n",
      "\n",
      "The highest accuracy score is: 0.712835625409\n"
     ]
    },
    {
     "name": "stderr",
     "output_type": "stream",
     "text": [
      "/Users/wangying/anaconda/lib/python2.7/site-packages/sklearn/model_selection/_search.py:667: DeprecationWarning: The grid_scores_ attribute was deprecated in version 0.18 in favor of the more elaborate cv_results_ attribute. The grid_scores_ attribute will not be available from 0.20\n",
      "  DeprecationWarning)\n"
     ]
    }
   ],
   "source": [
    "# Model Optimization: Random Forest\n",
    "max_depth = range(1,20)\n",
    "min_samples_split = range(2,20)\n",
    "params = dict(max_depth=max_depth, min_samples_split=min_samples_split)\n",
    "random_optimal = RandomForestClassifier(random_state=5)\n",
    "grid_random = GridSearchCV(random_optimal, params, scoring='accuracy', cv=10)\n",
    "t0 = time()\n",
    "grid_random.fit(X_train, y_train)\n",
    "t1 = time()\n",
    "print(\"Training time: {}\".format(t1-t0))\n",
    "best_clf = grid_random.best_estimator_\n",
    "results = grid_random.grid_scores_\n",
    "print(\"The best optimized Random Forest found: \\n\\n{}\".format(best_clf))\n",
    "print(\"\\nThe highest accuracy score is: {}\".format(grid_random.best_score_))"
   ]
  },
  {
   "cell_type": "code",
   "execution_count": 117,
   "metadata": {},
   "outputs": [
    {
     "data": {
      "image/png": "[encoded data removed]",
      "text/plain": [
       "<matplotlib.figure.Figure at 0x11b6d8950>"
      ]
     },
     "metadata": {},
     "output_type": "display_data"
    }
   ],
   "source": [
    "list1 = []\n",
    "list2 = []\n",
    "count = 1\n",
    "for i in results:\n",
    "    list1.append(i[1])\n",
    "    count += 1\n",
    "    if count == 19:\n",
    "        list2.append(np.mean(list1))\n",
    "        list1 = []\n",
    "        count = 1\n",
    "plt.plot(max_depth, list2)\n",
    "plt.tick_params(labelsize=18)\n",
    "plt.title(\"Random Forest Optimization\", fontsize=18)\n",
    "plt.xlabel(\"max_depth\", fontsize=18)\n",
    "plt.ylabel(\"Accuracy\", fontsize=18)\n",
    "plt.show()"
   ]
  },
  {
   "cell_type": "code",
   "execution_count": 118,
   "metadata": {},
   "outputs": [
    {
     "name": "stdout",
     "output_type": "stream",
     "text": [
      "The accuracy for optimized Random Forest is: 0.719895287958.\n",
      "The f1_score for optimized Random Forest is: 0.727513227513.\n"
     ]
    }
   ],
   "source": [
    "y_pred_random_optimal = best_clf.predict(X_test)\n",
    "print('The accuracy for optimized Random Forest is: {}.\\nThe f1_score for optimized Random Forest is: {}.'\n",
    ".format(accuracy_score(y_test, y_pred_random_optimal),f1_score(y_test, y_pred_random_optimal, average='micro')))"
   ]
  },
  {
   "cell_type": "code",
   "execution_count": 129,
   "metadata": {},
   "outputs": [
    {
     "name": "stdout",
     "output_type": "stream",
     "text": [
      "Training time is: 1357.57113481\n",
      "The best optimized Decision Tree found: \n",
      "\n",
      "MLPClassifier(activation='relu', alpha=0.0001, batch_size='auto', beta_1=0.9,\n",
      "       beta_2=0.999, early_stopping=False, epsilon=1e-08,\n",
      "       hidden_layer_sizes=1, learning_rate='constant',\n",
      "       learning_rate_init=0.001, max_iter=200, momentum=0.9,\n",
      "       nesterovs_momentum=True, power_t=0.5, random_state=None,\n",
      "       shuffle=True, solver='adam', tol=0.0001, validation_fraction=0.1,\n",
      "       verbose=False, warm_start=False)\n",
      "\n",
      "The highest accuracy score is: 0.684348395547\n"
     ]
    },
    {
     "name": "stderr",
     "output_type": "stream",
     "text": [
      "/Users/wangying/anaconda/lib/python2.7/site-packages/sklearn/model_selection/_search.py:667: DeprecationWarning: The grid_scores_ attribute was deprecated in version 0.18 in favor of the more elaborate cv_results_ attribute. The grid_scores_ attribute will not be available from 0.20\n",
      "  DeprecationWarning)\n"
     ]
    }
   ],
   "source": [
    "#  Model Optimization: MLP\n",
    "hidden_layer_sizes = range(1,11)\n",
    "learning_rate = ['constant', 'adaptive']\n",
    "params = dict(hidden_layer_sizes=hidden_layer_sizes, learning_rate=learning_rate)\n",
    "mlp_optimal = MLPClassifier(hidden_layer_sizes=10)\n",
    "grid_mlp = GridSearchCV(mlp_optimal, params, scoring='accuracy', cv=10)\n",
    "t0 = time()\n",
    "grid_mlp.fit(X_train, y_train)\n",
    "t1 = time()\n",
    "print(\"Training time is: {}\".format(t1-t0))\n",
    "best_clf = grid_mlp.best_estimator_\n",
    "results = grid_mlp.grid_scores_\n",
    "print(\"The best optimized Decision Tree found: \\n\\n{}\".format(best_clf))\n",
    "print(\"\\nThe highest accuracy score is: {}\".format(grid_mlp.best_score_))"
   ]
  },
  {
   "cell_type": "code",
   "execution_count": 145,
   "metadata": {},
   "outputs": [
    {
     "data": {
      "image/png": "[encoded data removed]",
      "text/plain": [
       "<matplotlib.figure.Figure at 0x11b76aa10>"
      ]
     },
     "metadata": {},
     "output_type": "display_data"
    }
   ],
   "source": [
    "grid_mean_scores = []\n",
    "for i in results:\n",
    "    grid_mean_scores.append(i.mean_validation_score)\n",
    "list1 = []\n",
    "list2 = []\n",
    "for i in range(0, 10):\n",
    "    list1.append(grid_mean_scores[i])\n",
    "    list1.append(grid_mean_scores[i + 10])\n",
    "    list2.append(np.mean(list1))\n",
    "    list1 = []\n",
    "plt.title('Multi-layer Perceptron Optimization', fontsize=18)\n",
    "plt.plot(hidden_layer_sizes, list2)\n",
    "plt.tick_params(labelsize=20)\n",
    "plt.xlabel('hidden_layer_size', fontsize=18)\n",
    "plt.ylabel('Accuracy', fontsize=18)\n",
    "plt.show()"
   ]
  },
  {
   "cell_type": "code",
   "execution_count": 146,
   "metadata": {},
   "outputs": [
    {
     "name": "stdout",
     "output_type": "stream",
     "text": [
      "The accuracy for optimized MLP is: 0.726439790576.\n",
      "The f1_score for optimized MLP is: 0.726439790576.\n"
     ]
    }
   ],
   "source": [
    "y_pred_mlp_optimal = best_clf.predict(X_test)\n",
    "print('The accuracy for optimized MLP is: {}.\\nThe f1_score for optimized MLP is: {}.'\\\n",
    "    .format(accuracy_score(y_test, y_pred_mlp_optimal),f1_score(y_test, y_pred_mlp_optimal, average='micro')))"
   ]
  },
  {
   "cell_type": "markdown",
   "metadata": {},
   "source": [
    "## Part 3: Conclusion"
   ]
  },
  {
   "cell_type": "markdown",
   "metadata": {},
   "source": [
    "As a conclusion, in this experiment, we selected four potential factors as features, to make classification among four possible causes for the person's death. We tested on seven different models with inital setting of parameters and fine-tuned on four of them to find the optimal setting of parameters. Finally, we found that the Decision Tree model with 'max_depth=10' and 'min_sample_split=2' achieves best performance of accuracy and F1-score."
   ]
  }
 ],
 "metadata": {
  "kernelspec": {
   "display_name": "Python 2",
   "language": "python",
   "name": "python2"
  },
  "language_info": {
   "codemirror_mode": {
    "name": "ipython",
    "version": 2
   },
   "file_extension": ".py",
   "mimetype": "text/x-python",
   "name": "python",
   "nbconvert_exporter": "python",
   "pygments_lexer": "ipython2",
   "version": "2.7.13"
  }
 },
 "nbformat": 4,
 "nbformat_minor": 2
}
